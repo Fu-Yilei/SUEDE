{
 "cells": [
  {
   "cell_type": "code",
   "execution_count": 64,
   "metadata": {},
   "outputs": [],
   "source": [
    "import ncbi_genome_download as ngd\n",
    "import os, re, gzip\n",
    "from ete3 import NCBITaxa\n",
    "import os"
   ]
  },
  {
   "cell_type": "code",
   "execution_count": 104,
   "metadata": {},
   "outputs": [
    {
     "name": "stdout",
     "output_type": "stream",
     "text": [
      "File exists:../NCBITaxa/\n"
     ]
    }
   ],
   "source": [
    "ncbi = NCBITaxa()\n",
    "workpath = os.path.join(\"../\" + \"NCBITaxa/\")\n",
    "try:\n",
    "    os.mkdir(workpath)\n",
    "except FileExistsError:\n",
    "    print(\"File exists:\"+workpath)"
   ]
  },
  {
   "cell_type": "code",
   "execution_count": 61,
   "metadata": {},
   "outputs": [],
   "source": [
    "def getTaxid(namelist):\n",
    "    # Get Taxon id\n",
    "    accessid = []\n",
    "    for i in namelist:\n",
    "        name2taxid = ncbi.get_name_translator([i])\n",
    "        if name2taxid == {}:\n",
    "            print(\"Wrong Taxon name!\")\n",
    "            return\n",
    "        else:\n",
    "            accessid.append(name2taxid)\n",
    "    return accessid"
   ]
  },
  {
   "cell_type": "code",
   "execution_count": 137,
   "metadata": {},
   "outputs": [
    {
     "name": "stdout",
     "output_type": "stream",
     "text": [
      "{'Mycobacterium tuberculosis typus humanus': [1773]}\n",
      "{'Mycobacterium bovis': [1765]}\n"
     ]
    }
   ],
   "source": [
    "tid = getTaxid([\"Mycobacterium tuberculosis typus humanus\", \"Mycobacterium bovis\"])\n",
    "for i in tid:\n",
    "    print(i)"
   ]
  },
  {
   "cell_type": "code",
   "execution_count": 93,
   "metadata": {},
   "outputs": [
    {
     "data": {
      "text/plain": [
       "1773"
      ]
     },
     "execution_count": 93,
     "metadata": {},
     "output_type": "execute_result"
    }
   ],
   "source": [
    "str(list(tid[0].values())[0][0])"
   ]
  },
  {
   "cell_type": "code",
   "execution_count": null,
   "metadata": {},
   "outputs": [],
   "source": [
    "\" -T 1773  -F fasta --assembly-level complete bacteria \""
   ]
  },
  {
   "cell_type": "code",
   "execution_count": 113,
   "metadata": {},
   "outputs": [
    {
     "data": {
      "text/plain": [
       "'../NCBITaxa/'"
      ]
     },
     "execution_count": 113,
     "metadata": {},
     "output_type": "execute_result"
    }
   ],
   "source": [
    "workpath"
   ]
  },
  {
   "cell_type": "code",
   "execution_count": 138,
   "metadata": {},
   "outputs": [],
   "source": [
    "def download_db(taxnamelist, group):\n",
    "    print(\"Group: \" + group)\n",
    "    for i in getTaxid(taxnamelist):\n",
    "        Taxon = list(i.keys())[0]\n",
    "        Taxonid = str(list(i.values())[0][0])\n",
    "        outdir = workpath + \"_\".join(Taxon.split(\" \"))\n",
    "        try:\n",
    "            os.mkdir(outdir)\n",
    "        except FileExistsError:\n",
    "            print(\"File exists: \"+ outdir)\n",
    "        print(\"Downloading complete sequence in fasta from NCBI database...\\n\" + \n",
    "            \"Taxon: \" + Taxon + \"\\n\" + \n",
    "            \"Taxon id: \" + Taxonid + \"\\n\" + \n",
    "            \"Directory: \" + outdir)\n",
    "        os.system(\"ncbi-genome-download -T \" + Taxonid +  \" -F fasta --assembly-level complete \"  +\" -o \" + outdir + \" \" + group)\n",
    "#         ngd.args_download(\"-T \" + Taxonid +  \" -F fasta --assembly-level complete \"  +\" -o \" + outdir + \" \" + group)\n",
    "        print(\"...Taxon \" + Taxon + \" downloaded complete!\")"
   ]
  },
  {
   "cell_type": "code",
   "execution_count": 139,
   "metadata": {},
   "outputs": [
    {
     "name": "stdout",
     "output_type": "stream",
     "text": [
      "Group: bacteria\n",
      "File exists: ../NCBITaxa/Mycobacterium_Tuberculosis\n",
      "Downloading complete sequence in fasta from NCBI database...\n",
      "Taxon: Mycobacterium Tuberculosis\n",
      "Taxon id: 1773\n",
      "Directory: ../NCBITaxa/Mycobacterium_Tuberculosis\n",
      "...Taxon Mycobacterium Tuberculosis downloaded complete!\n",
      "File exists: ../NCBITaxa/Mycobacterium_bovis\n",
      "Downloading complete sequence in fasta from NCBI database...\n",
      "Taxon: Mycobacterium bovis\n",
      "Taxon id: 1765\n",
      "Directory: ../NCBITaxa/Mycobacterium_bovis\n",
      "...Taxon Mycobacterium bovis downloaded complete!\n"
     ]
    }
   ],
   "source": [
    "download_db([\"Mycobacterium Tuberculosis\", \"Mycobacterium bovis\"], \"bacteria\")"
   ]
  },
  {
   "cell_type": "code",
   "execution_count": 156,
   "metadata": {},
   "outputs": [],
   "source": [
    "def get_all_fasta(top_dir, desire_dir):\n",
    "    if os.path.isdir(top_dir):\n",
    "        if os.listdir(top_dir) == []:\n",
    "            return\n",
    "        for i in os.listdir(top_dir):\n",
    "            if i.split(\".\")[-2:] == [\"fna\", \"gz\"]:\n",
    "                os.system(\"gunzip \" + top_dir + \"/\" + i)\n",
    "                os.system()\n",
    "            get_all_fasta(top_dir + \"/\" + i)\n",
    "    else:\n",
    "        return\n"
   ]
  },
  {
   "cell_type": "code",
   "execution_count": 157,
   "metadata": {},
   "outputs": [],
   "source": [
    "get_all_fasta(\"../NCBITaxa/Mycobacterium_Tuberculosis/\")"
   ]
  },
  {
   "cell_type": "code",
   "execution_count": null,
   "metadata": {},
   "outputs": [],
   "source": [
    "os.makedirs(directory)  # where directory is \"\\output\"\n",
    "with ZipFile(self.archive_name, \"r\") as archive:\n",
    "    for id, files in data.items():\n",
    "        if files:\n",
    "            print(\"Creating\", id)\n",
    "            dirpath = os.path.join(directory, id)\n",
    "\n",
    "            os.mkdir(dirpath)\n",
    "\n",
    "            for file in files:\n",
    "                match = pattern.match(filename)\n",
    "                new = match.group(2)\n",
    "                new_filename = os.path.join(dirpath, new)\n",
    "\n",
    "                content = archive.open(file).read()\n",
    "            with open(new_filename, \"wb\") as outfile:\n",
    "                outfile.write(content)"
   ]
  }
 ],
 "metadata": {
  "kernelspec": {
   "display_name": "Python 3",
   "language": "python",
   "name": "python3"
  },
  "language_info": {
   "codemirror_mode": {
    "name": "ipython",
    "version": 3
   },
   "file_extension": ".py",
   "mimetype": "text/x-python",
   "name": "python",
   "nbconvert_exporter": "python",
   "pygments_lexer": "ipython3",
   "version": "3.7.3"
  }
 },
 "nbformat": 4,
 "nbformat_minor": 2
}
