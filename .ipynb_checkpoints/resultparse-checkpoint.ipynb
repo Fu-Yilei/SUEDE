{
 "cells": [
  {
   "cell_type": "code",
   "execution_count": 2,
   "metadata": {},
   "outputs": [],
   "source": [
    "import os\n",
    "import pandas as pd\n",
    "import numpy as np\n",
    "import matplotlib.pyplot as plt\n",
    "import multiprocessing\n",
    "from tqdm import tqdm_notebook as tq"
   ]
  },
  {
   "cell_type": "markdown",
   "metadata": {},
   "source": [
    "### Read Parsnp output"
   ]
  },
  {
   "cell_type": "code",
   "execution_count": 3,
   "metadata": {},
   "outputs": [],
   "source": [
    "with open(\"parsnp.xmfa\", \"r\") as f:\n",
    "    readlist = f.readlines()"
   ]
  },
  {
   "cell_type": "code",
   "execution_count": 4,
   "metadata": {},
   "outputs": [],
   "source": [
    "def generate_read_list(reads):\n",
    "    name_list = []\n",
    "    read_list = []\n",
    "    cluster = {}\n",
    "    tempstr = \"\"\n",
    "    for i in range(len(reads)):\n",
    "        if reads[i][0] == \"#\":\n",
    "            continue\n",
    "        if reads[i][0] == \">\":\n",
    "            name_list.append(reads[i][:-1])\n",
    "            # print(reads[i])\n",
    "        elif i == len(reads) - 1:\n",
    "            tempstr = tempstr+reads[i][:-1]\n",
    "            read_list.append(tempstr)\n",
    "            tempstr = \"\"\n",
    "        elif reads[i+1][0] == \">\":\n",
    "            tempstr = tempstr+reads[i][:-1]\n",
    "            read_list.append(tempstr)\n",
    "            tempstr = \"\"\n",
    "        else:\n",
    "            tempstr = tempstr+reads[i][:-1]\n",
    "    return (name_list, read_list)"
   ]
  },
  {
   "cell_type": "code",
   "execution_count": 5,
   "metadata": {},
   "outputs": [],
   "source": [
    "(nlist, rlist) = generate_read_list(readlist)"
   ]
  },
  {
   "cell_type": "code",
   "execution_count": 6,
   "metadata": {},
   "outputs": [],
   "source": [
    "clusters = {}\n",
    "for i in range(len(nlist)):\n",
    "    cluster = nlist[i].split(\" \")[2]\n",
    "    if cluster not in clusters:\n",
    "        #exclude all LCBs\n",
    "        if ('A' in rlist[i]) or ('T' in rlist[i]) or ('C' in rlist[i]) or ('G' in rlist[i]) or ('-' in rlist[i]):\n",
    "            continue\n",
    "        clusters.update({cluster: rlist[i]})"
   ]
  },
  {
   "cell_type": "code",
   "execution_count": 7,
   "metadata": {},
   "outputs": [],
   "source": [
    "os.system(\"mkdir ./All_MUMs\")\n",
    "for i in clusters:\n",
    "    with open(\"./All_MUMs/\" + i + \".fasta\", \"a+\") as f:\n",
    "        f.write(\">\"+i+\"\\n\")\n",
    "        f.write(clusters[i])\n",
    "clusterl = os.listdir(\"./All_MUMs/\")"
   ]
  },
  {
   "cell_type": "markdown",
   "metadata": {},
   "source": [
    "### Run Blast for all MUMs ** Important: Some blastn result can be None, delete those files manually."
   ]
  },
  {
   "cell_type": "code",
   "execution_count": 16,
   "metadata": {},
   "outputs": [
    {
     "data": {
      "application/vnd.jupyter.widget-view+json": {
       "model_id": "3ceb904af2f540c78f2d9c40ea9e7c0d",
       "version_major": 2,
       "version_minor": 0
      },
      "text/plain": [
       "HBox(children=(IntProgress(value=0, max=69), HTML(value='')))"
      ]
     },
     "metadata": {},
     "output_type": "display_data"
    },
    {
     "name": "stdout",
     "output_type": "stream",
     "text": [
      "\n"
     ]
    }
   ],
   "source": [
    "for i in tq(clusterl):\n",
    "    os.system(\"blastn -max_target_seqs 1000 -db /home/Users/yf20/ncbi_database/newnt/nt -query \"+ \"./All_MUMs/\" + i + \" -out \" + i + \".out -outfmt '6 qseqid sseqid pident evalue stitle' -num_threads 70\")\n",
    "os.system(\"mkdir ./newblastresult/\")\n",
    "os.system(\"mv *.out ./newblastresult/\")"
   ]
  },
  {
   "cell_type": "code",
   "execution_count": 8,
   "metadata": {},
   "outputs": [],
   "source": [
    "blastresultfile = os.listdir(\"newblastresult/\")\n",
    "strain = []"
   ]
  },
  {
   "cell_type": "code",
   "execution_count": 9,
   "metadata": {},
   "outputs": [],
   "source": [
    "percent2strain = []\n",
    "for i in blastresultfile:\n",
    "    with open (\"newblastresult/\" + i, \"r\") as f:\n",
    "        l = f.readlines()\n",
    "        content = []\n",
    "        p2s = {}\n",
    "        for j in l:\n",
    "            k = j.split(\"\\t\")\n",
    "            content.append(k)\n",
    "            stranname = k[-1][:-1]\n",
    "            if stranname not in strain:\n",
    "                strain.append(stranname)\n",
    "            strpercent = k[2]\n",
    "            if stranname not in p2s:\n",
    "                p2s.update({stranname: float(strpercent)})\n",
    "            read = clusters[k[0]]\n",
    "        p2s.update({\"MUM\":read})\n",
    "        percent2strain.append((p2s))"
   ]
  },
  {
   "cell_type": "markdown",
   "metadata": {},
   "source": [
    "### Group different, important(required) Strains"
   ]
  },
  {
   "cell_type": "code",
   "execution_count": 10,
   "metadata": {},
   "outputs": [],
   "source": [
    "mtbs = []\n",
    "unknowns = []\n",
    "mbovis = []\n",
    "mnontbs = []\n",
    "afs = []\n",
    "for i in strain:\n",
    "    si = i.split(\" \")\n",
    "    if si[0] == \"Mycobacterium\" and si[1] == \"tuberculosis\":\n",
    "        #Mtb Bovis strain is also bovis strain\n",
    "        if si[2] == \"variant\" and si[3] == \"bovis\":\n",
    "            mbovis.append(i)\n",
    "        else:\n",
    "            mtbs.append(i)\n",
    "    elif si[1] == \"sp.\":\n",
    "        unknowns.append(i)\n",
    "    elif si[0] == \"Mycobacterium\" and si[1] == \"bovis\":\n",
    "        mbovis.append(i)\n",
    "    elif si[0] == \"Mycobacterium\" and si[1] == \"africanum\":\n",
    "        afs.append(i)\n",
    "    else:\n",
    "        mnontbs.append(i)\n",
    "whole = mtbs+mbovis+afs+mnontbs+unknowns\n",
    "res = pd.DataFrame(columns=[\"MUM\"]+whole)\n",
    "for i in percent2strain:\n",
    "    res = res.append(i, ignore_index=True)\n",
    "res = res.fillna(0)\n",
    "res.set_index([\"MUM\"], inplace = True)"
   ]
  },
  {
   "cell_type": "markdown",
   "metadata": {},
   "source": [
    "### Get all 16S strains"
   ]
  },
  {
   "cell_type": "code",
   "execution_count": 45,
   "metadata": {},
   "outputs": [],
   "source": [
    "Strain16S = res\n",
    "for i in strain:\n",
    "    keys = i.split(\" \")\n",
    "    if \"16S\" in keys:\n",
    "        continue\n",
    "    Strain16S = Strain16S.drop(i, axis=1)"
   ]
  },
  {
   "cell_type": "markdown",
   "metadata": {},
   "source": [
    "### See All Complete Strains"
   ]
  },
  {
   "cell_type": "code",
   "execution_count": 11,
   "metadata": {},
   "outputs": [],
   "source": [
    "rescg = res\n",
    "for i in strain:\n",
    "    keys = i.split(\" \")\n",
    "    if keys[-1] == \"genome\" and keys[-2] == \"complete\" and keys[0] == \"Mycobacterium\" and keys[1] != \"sp.\":\n",
    "        continue\n",
    "    rescg = rescg.drop(i, axis=1)"
   ]
  },
  {
   "cell_type": "markdown",
   "metadata": {},
   "source": [
    "### See Bovis"
   ]
  },
  {
   "cell_type": "code",
   "execution_count": 12,
   "metadata": {},
   "outputs": [],
   "source": [
    "boviscg = []\n",
    "for i in mbovis:\n",
    "    keys = i.split(\" \")\n",
    "    if keys[-1] == \"genome\" and keys[-2] == \"complete\" and keys[0] == \"Mycobacterium\" and keys[1] != \"sp.\":\n",
    "        boviscg.append(i)\n",
    "resbovis = rescg[boviscg]"
   ]
  },
  {
   "cell_type": "code",
   "execution_count": 13,
   "metadata": {},
   "outputs": [],
   "source": [
    "tbcg = []\n",
    "for i in mtbs:\n",
    "    keys = i.split(\" \")\n",
    "    if keys[-1] == \"genome\" and keys[-2] == \"complete\" and keys[0] == \"Mycobacterium\" and keys[1] != \"sp.\":\n",
    "        tbcg.append(i)\n",
    "resnontb = rescg.drop(tbcg, axis=1)"
   ]
  },
  {
   "cell_type": "markdown",
   "metadata": {},
   "source": [
    "### See All Unique to TB"
   ]
  },
  {
   "cell_type": "code",
   "execution_count": 42,
   "metadata": {},
   "outputs": [],
   "source": [
    "MUMs = list(resnontb.index.values)\n",
    "droplist = []\n",
    "for i in MUMs:\n",
    "    for j in (resnontb.loc[i]):\n",
    "        if j == 100 and (i not in droplist):\n",
    "            droplist.append(i)\n",
    "uniquttotb = rescg.drop(droplist)"
   ]
  },
  {
   "cell_type": "code",
   "execution_count": 47,
   "metadata": {},
   "outputs": [],
   "source": [
    "with open(\"all_strains.csv\", \"w\") as f:\n",
    "    f.write(res.to_csv())\n",
    "with open(\"complete_genomes.csv\", \"w\") as f:\n",
    "    f.write(rescg.to_csv())\n",
    "with open(\"bovis_complete_genomes_strains.csv\", \"w\") as f:\n",
    "    f.write(resbovis.to_csv())\n",
    "with open(\"non_tb_complete_genomes_strains.csv\", \"w\") as f:\n",
    "    f.write(resnontb.to_csv())\n",
    "with open(\"unique_to_tb.csv\", \"w\") as f:\n",
    "    f.write(uniquttotb.to_csv())\n",
    "with open(\"16S.csv\", \"w\") as f:\n",
    "    f.write(Strain16S.to_csv())"
   ]
  },
  {
   "cell_type": "code",
   "execution_count": null,
   "metadata": {},
   "outputs": [],
   "source": []
  }
 ],
 "metadata": {
  "kernelspec": {
   "display_name": "Python 3",
   "language": "python",
   "name": "python3"
  },
  "language_info": {
   "codemirror_mode": {
    "name": "ipython",
    "version": 3
   },
   "file_extension": ".py",
   "mimetype": "text/x-python",
   "name": "python",
   "nbconvert_exporter": "python",
   "pygments_lexer": "ipython3",
   "version": "3.7.3"
  }
 },
 "nbformat": 4,
 "nbformat_minor": 2
}
