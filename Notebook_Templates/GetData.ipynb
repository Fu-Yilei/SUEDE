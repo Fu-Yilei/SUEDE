{
 "cells": [
  {
   "cell_type": "code",
   "execution_count": 227,
   "metadata": {},
   "outputs": [],
   "source": [
    "import ncbi_genome_download as ngd\n",
    "import os, re, gzip\n",
    "from ete3 import NCBITaxa\n",
    "import os"
   ]
  },
  {
   "cell_type": "code",
   "execution_count": 228,
   "metadata": {},
   "outputs": [
    {
     "name": "stdout",
     "output_type": "stream",
     "text": [
      "Work Path:../NCBITaxa/\n",
      "Control datasets path: ./example_control\n"
     ]
    }
   ],
   "source": [
    "ncbi = NCBITaxa()\n",
    "workpath = os.path.join(\"../\" + \"NCBITaxa/\")\n",
    "controlpath = os.path.join(\"./example_control\")\n",
    "try:\n",
    "    os.mkdir(workpath)\n",
    "except FileExistsError:\n",
    "    print(\"File exists: \" + workpath)\n",
    "print(\"Work Path:\" + workpath)\n",
    "print(\"Control datasets path: \" + controlpath)"
   ]
  },
  {
   "cell_type": "code",
   "execution_count": 239,
   "metadata": {},
   "outputs": [
    {
     "name": "stdout",
     "output_type": "stream",
     "text": [
      "####################################################################################\n",
      "Taxon group: bacteria\n",
      "\n",
      "Positve control group:\n",
      "Mycobacterium tuberculosis\n",
      "\n",
      "\n",
      "Negative control group:\n",
      "Mycobacterium bovis\n",
      "Mycobacterium avium\n",
      "Mycobacterium smegmatis\n",
      "Mycobacterium abscessus\n",
      "Mycobacterium kansasii\n",
      "Mycobacterium fortuitum\n"
     ]
    }
   ],
   "source": [
    "with open(controlpath, \"r\") as f:\n",
    "    l = f.readlines()\n",
    "\n",
    "output = [[]]\n",
    "\n",
    "for x in l:\n",
    "    output[-1].append(x)\n",
    "    if x == '\\n':\n",
    "        output.append([])\n",
    "output[0].remove('\\n')\n",
    "positive = []\n",
    "negative = []\n",
    "whole = []\n",
    "group = output[0][0]\n",
    "for i in output[1]:\n",
    "    positive.append(i[:-1])\n",
    "    whole.append(i[:-1])\n",
    "for i in output[2]:\n",
    "    negative.append(i[:-1])\n",
    "    whole.append(i[:-1])\n",
    "print(\"####################################################################################\")\n",
    "print(\"Taxon group: \" + group)\n",
    "print(\"Positve control group:\")\n",
    "for i in positive:\n",
    "    print(i)\n",
    "print()\n",
    "print(\"Negative control group:\")\n",
    "for i in negative:\n",
    "    print(i)\n"
   ]
  },
  {
   "cell_type": "code",
   "execution_count": 230,
   "metadata": {},
   "outputs": [],
   "source": [
    "def getTaxid(namelist):\n",
    "    # Get Taxon id\n",
    "    accessid = []\n",
    "    for i in namelist:\n",
    "        name2taxid = ncbi.get_name_translator([i])\n",
    "        if name2taxid == {}:\n",
    "            print(\"Wrong Taxon name!\")\n",
    "            return\n",
    "        else:\n",
    "            accessid.append(name2taxid)\n",
    "    return accessid"
   ]
  },
  {
   "cell_type": "code",
   "execution_count": 231,
   "metadata": {},
   "outputs": [],
   "source": [
    "def ungz_all_fasta(top_dir):\n",
    "    if os.path.isdir(top_dir):\n",
    "        if os.listdir(top_dir) == []:\n",
    "            return\n",
    "        for i in os.listdir(top_dir):\n",
    "            if i.split(\".\")[-2:] == [\"fna\", \"gz\"]:\n",
    "                os.system(\"gunzip \" + top_dir + \"/\" + i)\n",
    "            get_all_fasta(top_dir + \"/\" + i)\n",
    "    else:\n",
    "        return\n",
    "def rm_not_fasta(current_dir):\n",
    "    remove_list = []\n",
    "    for i in os.listdir(current_dir):\n",
    "        if i[-4:] != \".fna\":\n",
    "            remove_list.append(i)\n",
    "    for i in remove_list:\n",
    "        os.system(\"rm -r \" + current_dir + i)"
   ]
  },
  {
   "cell_type": "code",
   "execution_count": 236,
   "metadata": {},
   "outputs": [],
   "source": [
    "def download_db(taxnamelist, group):\n",
    "    print(\"Group: \" + group)\n",
    "    for i in getTaxid(taxnamelist):\n",
    "        Taxon = list(i.keys())[0]\n",
    "        Taxonid = str(list(i.values())[0][0])\n",
    "        outdir = workpath + \"_\".join(Taxon.split(\" \")) + \"/\"\n",
    "        try:\n",
    "            os.mkdir(outdir)\n",
    "        except FileExistsError:\n",
    "            print(\"Path exists: \"+ outdir)\n",
    "        print(\"####################################################################################\")\n",
    "        print(\"Downloading complete sequence in fasta from NCBI database...\\n\" + \n",
    "            \"Taxon: \" + Taxon + \"\\n\" + \n",
    "            \"Taxon id: \" + Taxonid + \"\\n\" + \n",
    "            \"Directory: \" + outdir)\n",
    "        print(\"Executing: \" + \"ncbi-genome-download -t \" + Taxonid +  \" -F fasta --assembly-level complete \"  +\" -o \" + outdir + \" \" + group)\n",
    "        os.system(\"ncbi-genome-download -t \" + Taxonid +  \" -F fasta --assembly-level complete \"  +\" -o \" + outdir + \" \" + group)\n",
    "        print(\"...Taxon \" + Taxon + \" downloaded complete!\")\n",
    "        print(\"Unzip and re-organizing...\")\n",
    "        ungz_all_fasta(outdir)\n",
    "    for i in os.walk(outdir):\n",
    "        for j in i[2]:\n",
    "            if j[-4:] == \".fna\":\n",
    "                os.system(\"cp \" + i[0]+\"/\"+j + \" \" + outdir)\n",
    "    rm_not_fasta(outdir)"
   ]
  },
  {
   "cell_type": "code",
   "execution_count": 234,
   "metadata": {},
   "outputs": [
    {
     "name": "stdout",
     "output_type": "stream",
     "text": [
      "Group: bacteria\n",
      "####################################################################################\n",
      "Downloading complete sequence in fasta from NCBI database...\n",
      "Taxon: Mycobacterium tuberculosis\n",
      "Taxon id: 1773\n",
      "Directory: ../NCBITaxa/Mycobacterium_tuberculosis/\n",
      "#Excuting: ncbi-genome-download -T 1773 -F fasta --assembly-level complete  -o ../NCBITaxa/Mycobacterium_tuberculosis/ bacteria\n",
      "...Taxon Mycobacterium tuberculosis downloaded complete!\n",
      "####################################################################################\n",
      "Downloading complete sequence in fasta from NCBI database...\n",
      "Taxon: Mycobacterium bovis\n",
      "Taxon id: 1765\n",
      "Directory: ../NCBITaxa/Mycobacterium_bovis/\n",
      "#Excuting: ncbi-genome-download -T 1765 -F fasta --assembly-level complete  -o ../NCBITaxa/Mycobacterium_bovis/ bacteria\n",
      "...Taxon Mycobacterium bovis downloaded complete!\n",
      "####################################################################################\n",
      "Downloading complete sequence in fasta from NCBI database...\n",
      "Taxon: Mycobacterium avium\n",
      "Taxon id: 1764\n",
      "Directory: ../NCBITaxa/Mycobacterium_avium/\n",
      "#Excuting: ncbi-genome-download -T 1764 -F fasta --assembly-level complete  -o ../NCBITaxa/Mycobacterium_avium/ bacteria\n",
      "...Taxon Mycobacterium avium downloaded complete!\n",
      "####################################################################################\n",
      "Downloading complete sequence in fasta from NCBI database...\n",
      "Taxon: Mycobacterium smegmatis\n",
      "Taxon id: 1772\n",
      "Directory: ../NCBITaxa/Mycobacterium_smegmatis/\n",
      "#Excuting: ncbi-genome-download -T 1772 -F fasta --assembly-level complete  -o ../NCBITaxa/Mycobacterium_smegmatis/ bacteria\n",
      "...Taxon Mycobacterium smegmatis downloaded complete!\n",
      "####################################################################################\n",
      "Downloading complete sequence in fasta from NCBI database...\n",
      "Taxon: Mycobacterium abscessus\n",
      "Taxon id: 36809\n",
      "Directory: ../NCBITaxa/Mycobacterium_abscessus/\n",
      "#Excuting: ncbi-genome-download -T 36809 -F fasta --assembly-level complete  -o ../NCBITaxa/Mycobacterium_abscessus/ bacteria\n",
      "...Taxon Mycobacterium abscessus downloaded complete!\n",
      "####################################################################################\n",
      "Downloading complete sequence in fasta from NCBI database...\n",
      "Taxon: Mycobacterium kansasii\n",
      "Taxon id: 1768\n",
      "Directory: ../NCBITaxa/Mycobacterium_kansasii/\n",
      "#Excuting: ncbi-genome-download -T 1768 -F fasta --assembly-level complete  -o ../NCBITaxa/Mycobacterium_kansasii/ bacteria\n",
      "...Taxon Mycobacterium kansasii downloaded complete!\n",
      "####################################################################################\n",
      "Downloading complete sequence in fasta from NCBI database...\n",
      "Taxon: Mycobacterium fortuitum\n",
      "Taxon id: 1766\n",
      "Directory: ../NCBITaxa/Mycobacterium_fortuitum/\n",
      "#Excuting: ncbi-genome-download -T 1766 -F fasta --assembly-level complete  -o ../NCBITaxa/Mycobacterium_fortuitum/ bacteria\n",
      "...Taxon Mycobacterium fortuitum downloaded complete!\n"
     ]
    }
   ],
   "source": [
    "download_db(whole, \"bacteria\")"
   ]
  },
  {
   "cell_type": "code",
   "execution_count": null,
   "metadata": {},
   "outputs": [],
   "source": []
  }
 ],
 "metadata": {
  "kernelspec": {
   "display_name": "Python 3",
   "language": "python",
   "name": "python3"
  },
  "language_info": {
   "codemirror_mode": {
    "name": "ipython",
    "version": 3
   },
   "file_extension": ".py",
   "mimetype": "text/x-python",
   "name": "python",
   "nbconvert_exporter": "python",
   "pygments_lexer": "ipython3",
   "version": "3.7.3"
  }
 },
 "nbformat": 4,
 "nbformat_minor": 2
}
